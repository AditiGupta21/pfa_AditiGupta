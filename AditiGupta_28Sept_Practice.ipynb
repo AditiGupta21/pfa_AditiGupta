{
 "cells": [
  {
   "cell_type": "code",
   "execution_count": 3,
   "id": "d0e0f883",
   "metadata": {},
   "outputs": [
    {
     "name": "stdout",
     "output_type": "stream",
     "text": [
      "Enter the number of elements in the list: 5\n",
      "Enter the elements :12\n",
      "Enter the elements :35\n",
      "Enter the elements :9\n",
      "Enter the elements :56\n",
      "Enter the elements :24\n",
      "['12', '35', '9', '56', '24']\n",
      "['24', '35', '9', '56', '12']\n"
     ]
    }
   ],
   "source": [
    "#Question-1\n",
    "# Creating an empty list and assigning it to L variable.\n",
    "L=[]\n",
    "# Asking for number of elements in list and further asking about each element to be entered in the list.\n",
    "x= int(input(\"Enter the number of elements in the list: \"))\n",
    "for i in range(x):\n",
    "    m=input(\"Enter the elements :\")\n",
    "    L.append(m)\n",
    "#Print the appended list assigned to L.\n",
    "print(L)\n",
    "#Defining the first element of the list.\n",
    "Ist=L[0]\n",
    "#replacing fist and last elements of the lists.\n",
    "L[0]=L[-1]\n",
    "L[-1]=Ist\n",
    "print(L)"
   ]
  },
  {
   "cell_type": "code",
   "execution_count": 4,
   "id": "6eaa86b3",
   "metadata": {},
   "outputs": [
    {
     "name": "stdout",
     "output_type": "stream",
     "text": [
      "5\n"
     ]
    }
   ],
   "source": [
    "#Question-2\n",
    "#create list\n",
    "list=[1,4,5,7,8]\n",
    "#lenth of list\n",
    "length=len(list)\n",
    "#print list\n",
    "print(length)"
   ]
  },
  {
   "cell_type": "code",
   "execution_count": 5,
   "id": "8eb7a24d",
   "metadata": {},
   "outputs": [
    {
     "name": "stdout",
     "output_type": "stream",
     "text": [
      "['Geeks', 'Are', 'For', 'Geeks']\n",
      "length of list is 4\n"
     ]
    }
   ],
   "source": [
    "#Question-3\n",
    "#create empty list\n",
    "ss=[]\n",
    "#append values\n",
    "ss.append(\"Geeks\")\n",
    "ss.append(\"Are\")\n",
    "ss.append(\"For\")\n",
    "ss.append(\"Geeks\")\n",
    "#print list\n",
    "print(ss)\n",
    "#print length\n",
    "print(\"length of list is\", len(ss))"
   ]
  },
  {
   "cell_type": "code",
   "execution_count": 8,
   "id": "fd396c93",
   "metadata": {},
   "outputs": [
    {
     "name": "stdout",
     "output_type": "stream",
     "text": [
      "Enter the Ist number:  2\n",
      "Enter the IInd number:  4\n",
      "Maximum number is 4 and minimun number is 2\n"
     ]
    }
   ],
   "source": [
    "#Question-4\n",
    "#Asking for input.\n",
    "i=input(\"Enter the Ist number:  \")\n",
    "j=input(\"Enter the IInd number:  \")\n",
    "#Creating an empty list.\n",
    "x=[]\n",
    "#Appending both the input in the empty list\n",
    "x.append(i)\n",
    "x.append(j)\n",
    "#Printing maximum and minimum number\n",
    "print(\"Maximum number is\",max(x),\"and minimun number is\",min(x))"
   ]
  }
 ],
 "metadata": {
  "kernelspec": {
   "display_name": "Python 3",
   "language": "python",
   "name": "python3"
  },
  "language_info": {
   "codemirror_mode": {
    "name": "ipython",
    "version": 3
   },
   "file_extension": ".py",
   "mimetype": "text/x-python",
   "name": "python",
   "nbconvert_exporter": "python",
   "pygments_lexer": "ipython3",
   "version": "3.8.8"
  }
 },
 "nbformat": 4,
 "nbformat_minor": 5
}
